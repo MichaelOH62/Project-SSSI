{
  "nbformat": 4,
  "nbformat_minor": 0,
  "metadata": {
    "colab": {
      "provenance": [],
      "authorship_tag": "ABX9TyObcT3sPJT9/x/oqKQf36tS",
      "include_colab_link": true
    },
    "kernelspec": {
      "name": "python3",
      "display_name": "Python 3"
    },
    "language_info": {
      "name": "python"
    }
  },
  "cells": [
    {
      "cell_type": "markdown",
      "metadata": {
        "id": "view-in-github",
        "colab_type": "text"
      },
      "source": [
        "<a href=\"https://colab.research.google.com/github/adiraCode/Project-SSSI/blob/milestone-1/CS301ProjectSSSI.ipynb\" target=\"_parent\"><img src=\"https://colab.research.google.com/assets/colab-badge.svg\" alt=\"Open In Colab\"/></a>"
      ]
    },
    {
      "cell_type": "markdown",
      "source": [
        "# **Environment Preparation**"
      ],
      "metadata": {
        "id": "-xWMgKy3YMka"
      }
    },
    {
      "cell_type": "markdown",
      "source": [
        "Install required packages and softwares.\n",
        "\n",
        "Register a ngrok account here (https://ngrok.com/), then connect to your account using your authtoken."
      ],
      "metadata": {
        "id": "agGCIzKbZKbE"
      }
    },
    {
      "cell_type": "code",
      "execution_count": null,
      "metadata": {
        "id": "TFplaDP8XfdL"
      },
      "outputs": [],
      "source": [
        "! pip install nni # install nni\n",
        "! wget https://bin.equinox.io/c/4VmDzA7iaHb/ngrok-stable-linux-amd64.zip # download ngrok and unzip it\n",
        "! unzip ngrok-stable-linux-amd64.zip\n",
        "! mkdir -p nni_repo\n",
        "! git clone https://github.com/microsoft/nni.git nni_repo/nni # clone NNI's offical repo to get examples\n",
        "\n",
        "! ./ngrok authtoken 2Gxckg9GURXCw36dtjUTXoFCU04_5s4qK5HitzTxGryi2RMEd"
      ]
    },
    {
      "cell_type": "markdown",
      "source": [
        "Start an NNI example on a port bigger than 1024, then start ngrok with the same port. If you want to use gpu, make sure gpuNum >= 1 in config.yml. Use get_ipython() to start ngrok since it will be stuck if you use ! ngrok http 5000 &."
      ],
      "metadata": {
        "id": "sPz5mH0kYyfJ"
      }
    },
    {
      "cell_type": "code",
      "source": [
        "! nnictl create --config nni_repo/nni/examples/trials/mnist-pytorch/config.yml --port 5000 &"
      ],
      "metadata": {
        "id": "cIB3LXWtYyLT"
      },
      "execution_count": null,
      "outputs": []
    },
    {
      "cell_type": "code",
      "source": [
        "get_ipython().system_raw('./ngrok http 5000 &')"
      ],
      "metadata": {
        "id": "yZgMo7LhYz9U"
      },
      "execution_count": null,
      "outputs": []
    },
    {
      "cell_type": "markdown",
      "source": [
        "Check the public url.\n",
        "\n",
        "You will see an url like http://xxxx.ngrok.io after step 4, open this url and you will find NNI’s Web UI. Have fun :)"
      ],
      "metadata": {
        "id": "aEiF8F6BYzvu"
      }
    },
    {
      "cell_type": "code",
      "source": [
        "! curl -s http://localhost:4040/api/tunnels # don't change the port number 4040"
      ],
      "metadata": {
        "id": "PqEF6twNY9fv"
      },
      "execution_count": null,
      "outputs": []
    }
  ]
}
